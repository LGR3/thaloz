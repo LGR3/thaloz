{
 "cells": [
  {
   "cell_type": "markdown",
   "metadata": {},
   "source": [
    "# Code for Thaloz Test - TASKS :\n",
    "\n",
    "1- Reads and preprocesses customer service conversations from a CSV file.  (check)  \n",
    "2- Generates embeddings for customer messages using sentence-transformers.  (check)  \n",
    "3- Stores embeddings in a vector database (FAISS) for fast similarity search.  (check)  \n",
    "4- Implements a function to retrieve the top 3 most relevant responses based on a user query.  (Check)  "
   ]
  },
  {
   "cell_type": "code",
   "execution_count": 1,
   "metadata": {},
   "outputs": [
    {
     "data": {
      "application/vnd.microsoft.datawrangler.viewer.v0+json": {
       "columns": [
        {
         "name": "ID",
         "rawType": "int64",
         "type": "integer"
        },
        {
         "name": "Customer Message",
         "rawType": "object",
         "type": "string"
        },
        {
         "name": "Agent Response",
         "rawType": "object",
         "type": "string"
        }
       ],
       "conversionMethod": "pd.DataFrame",
       "ref": "57c719f0-36bf-4990-bf7a-87a8b0f2fedf",
       "rows": [
        [
         "1",
         "My order hasn’t arrived yet. Can you check?",
         "I’m sorry for the delay! Can you provide your order number?"
        ],
        [
         "2",
         "I need to reset my password but the link is broken.",
         "I understand. Let me generate a new reset link for you."
        ],
        [
         "3",
         "Do you have a refund policy?",
         "Yes! We offer a 30-day money-back guarantee. Would you like me to process a refund?"
        ],
        [
         "4",
         "The product I received is defective.",
         "I'm sorry to hear that. We can arrange a replacement or refund. What would you prefer?"
        ],
        [
         "5",
         "How can I contact support?",
         "You can reach us via email at support@example.com or call our helpline."
        ]
       ],
       "shape": {
        "columns": 2,
        "rows": 5
       }
      },
      "text/html": [
       "<div>\n",
       "<style scoped>\n",
       "    .dataframe tbody tr th:only-of-type {\n",
       "        vertical-align: middle;\n",
       "    }\n",
       "\n",
       "    .dataframe tbody tr th {\n",
       "        vertical-align: top;\n",
       "    }\n",
       "\n",
       "    .dataframe thead th {\n",
       "        text-align: right;\n",
       "    }\n",
       "</style>\n",
       "<table border=\"1\" class=\"dataframe\">\n",
       "  <thead>\n",
       "    <tr style=\"text-align: right;\">\n",
       "      <th></th>\n",
       "      <th>Customer Message</th>\n",
       "      <th>Agent Response</th>\n",
       "    </tr>\n",
       "    <tr>\n",
       "      <th>ID</th>\n",
       "      <th></th>\n",
       "      <th></th>\n",
       "    </tr>\n",
       "  </thead>\n",
       "  <tbody>\n",
       "    <tr>\n",
       "      <th>1</th>\n",
       "      <td>My order hasn’t arrived yet. Can you check?</td>\n",
       "      <td>I’m sorry for the delay! Can you provide your ...</td>\n",
       "    </tr>\n",
       "    <tr>\n",
       "      <th>2</th>\n",
       "      <td>I need to reset my password but the link is br...</td>\n",
       "      <td>I understand. Let me generate a new reset link...</td>\n",
       "    </tr>\n",
       "    <tr>\n",
       "      <th>3</th>\n",
       "      <td>Do you have a refund policy?</td>\n",
       "      <td>Yes! We offer a 30-day money-back guarantee. W...</td>\n",
       "    </tr>\n",
       "    <tr>\n",
       "      <th>4</th>\n",
       "      <td>The product I received is defective.</td>\n",
       "      <td>I'm sorry to hear that. We can arrange a repla...</td>\n",
       "    </tr>\n",
       "    <tr>\n",
       "      <th>5</th>\n",
       "      <td>How can I contact support?</td>\n",
       "      <td>You can reach us via email at support@example....</td>\n",
       "    </tr>\n",
       "  </tbody>\n",
       "</table>\n",
       "</div>"
      ],
      "text/plain": [
       "                                     Customer Message  \\\n",
       "ID                                                      \n",
       "1         My order hasn’t arrived yet. Can you check?   \n",
       "2   I need to reset my password but the link is br...   \n",
       "3                        Do you have a refund policy?   \n",
       "4                The product I received is defective.   \n",
       "5                          How can I contact support?   \n",
       "\n",
       "                                       Agent Response  \n",
       "ID                                                     \n",
       "1   I’m sorry for the delay! Can you provide your ...  \n",
       "2   I understand. Let me generate a new reset link...  \n",
       "3   Yes! We offer a 30-day money-back guarantee. W...  \n",
       "4   I'm sorry to hear that. We can arrange a repla...  \n",
       "5   You can reach us via email at support@example....  "
      ]
     },
     "execution_count": 1,
     "metadata": {},
     "output_type": "execute_result"
    }
   ],
   "source": [
    "import pandas as pd\n",
    "\n",
    "df = pd.read_csv(\"customer_service_conversations.csv\", index_col=\"ID\")\n",
    "df"
   ]
  },
  {
   "cell_type": "code",
   "execution_count": 2,
   "metadata": {},
   "outputs": [],
   "source": [
    "from sentence_transformers import SentenceTransformer\n",
    "\n",
    "# Load the pre-trained model\n",
    "model = SentenceTransformer('all-MiniLM-L6-v2')\n",
    "df['embeddings'] = df['Customer Message'].apply(lambda x: model.encode(x))\n"
   ]
  },
  {
   "cell_type": "code",
   "execution_count": 3,
   "metadata": {},
   "outputs": [],
   "source": [
    "import faiss\n",
    "import numpy as np\n",
    "\n",
    "# Convert embeddings to a numpy array\n",
    "embedding_matrix = np.array(df['embeddings'].tolist()).astype('float32')\n",
    "\n",
    "# Create a FAISS index\n",
    "index = faiss.IndexFlatL2(embedding_matrix.shape[1])  # Using L2 distance\n",
    "index.add(embedding_matrix)  # Add embeddings to the index\n",
    "\n",
    "# Function to retrieve top 3 most similar responses\n",
    "def retrieve_top_responses(query, k=3):\n",
    "    query_embedding = model.encode(query).reshape(1, -1).astype('float32')\n",
    "    distances, indices = index.search(query_embedding, k)  # Search for the top k\n",
    "    return df.iloc[indices[0]]  # Return the top k responses\n"
   ]
  },
  {
   "cell_type": "code",
   "execution_count": 4,
   "metadata": {},
   "outputs": [],
   "source": [
    "def get_relevant_responses():\n",
    "    for message in df['Customer Message']:\n",
    "        top_responses = retrieve_top_responses(message)\n",
    "        print(f\"Customer Message: {message}\")\n",
    "        print(\"Top 3 Agent Responses:\")\n",
    "        for response in top_responses['Agent Response']:\n",
    "            print(f\"- {response}\")\n",
    "        print(\"\\n\")\n"
   ]
  },
  {
   "cell_type": "code",
   "execution_count": 5,
   "metadata": {},
   "outputs": [
    {
     "name": "stdout",
     "output_type": "stream",
     "text": [
      "Customer Message: My order hasn’t arrived yet. Can you check?\n",
      "Top 3 Agent Responses:\n",
      "- I’m sorry for the delay! Can you provide your order number?\n",
      "- I'm sorry to hear that. We can arrange a replacement or refund. What would you prefer?\n",
      "- Yes! We offer a 30-day money-back guarantee. Would you like me to process a refund?\n",
      "\n",
      "\n",
      "Customer Message: I need to reset my password but the link is broken.\n",
      "Top 3 Agent Responses:\n",
      "- I understand. Let me generate a new reset link for you.\n",
      "- You can reach us via email at support@example.com or call our helpline.\n",
      "- I'm sorry to hear that. We can arrange a replacement or refund. What would you prefer?\n",
      "\n",
      "\n",
      "Customer Message: Do you have a refund policy?\n",
      "Top 3 Agent Responses:\n",
      "- Yes! We offer a 30-day money-back guarantee. Would you like me to process a refund?\n",
      "- You can reach us via email at support@example.com or call our helpline.\n",
      "- I’m sorry for the delay! Can you provide your order number?\n",
      "\n",
      "\n",
      "Customer Message: The product I received is defective.\n",
      "Top 3 Agent Responses:\n",
      "- I'm sorry to hear that. We can arrange a replacement or refund. What would you prefer?\n",
      "- I’m sorry for the delay! Can you provide your order number?\n",
      "- I understand. Let me generate a new reset link for you.\n",
      "\n",
      "\n",
      "Customer Message: How can I contact support?\n",
      "Top 3 Agent Responses:\n",
      "- You can reach us via email at support@example.com or call our helpline.\n",
      "- Yes! We offer a 30-day money-back guarantee. Would you like me to process a refund?\n",
      "- I understand. Let me generate a new reset link for you.\n",
      "\n",
      "\n"
     ]
    }
   ],
   "source": [
    "from sklearn.metrics.pairwise import cosine_similarity\n",
    "\n",
    "def get_most_relevant_response(query):\n",
    "    # Get the top response embeddings\n",
    "    top_responses = retrieve_top_responses(query)\n",
    "    \n",
    "    # Calculate cosine similarity between the query and top responses\n",
    "    query_embedding = model.encode(query).reshape(1, -1).astype('float32')\n",
    "    response_embeddings = np.array(top_responses['embeddings'].tolist()).astype('float32')\n",
    "    \n",
    "    similarities = cosine_similarity(query_embedding, response_embeddings).flatten()\n",
    "    \n",
    "    # Get the index of the most relevant response\n",
    "    most_relevant_index = np.argmax(similarities)\n",
    "    \n",
    "    return top_responses.iloc[most_relevant_index]\n",
    "\n",
    "# Example usage\n",
    "for message in df['Customer Message']:\n",
    "    top_responses = retrieve_top_responses(message)\n",
    "    print(f\"Customer Message: {message}\")\n",
    "    print(\"Top 3 Agent Responses:\")\n",
    "    for response in top_responses['Agent Response']:\n",
    "        print(f\"- {response}\")\n",
    "    print(\"\\n\")\n"
   ]
  },
  {
   "cell_type": "code",
   "execution_count": null,
   "metadata": {},
   "outputs": [],
   "source": []
  }
 ],
 "metadata": {
  "kernelspec": {
   "display_name": "base",
   "language": "python",
   "name": "python3"
  },
  "language_info": {
   "codemirror_mode": {
    "name": "ipython",
    "version": 3
   },
   "file_extension": ".py",
   "mimetype": "text/x-python",
   "name": "python",
   "nbconvert_exporter": "python",
   "pygments_lexer": "ipython3",
   "version": "3.12.4"
  },
  "toc": {
   "base_numbering": 1,
   "nav_menu": {},
   "number_sections": true,
   "sideBar": true,
   "skip_h1_title": false,
   "title_cell": "Table of Contents",
   "title_sidebar": "Contents",
   "toc_cell": false,
   "toc_position": {},
   "toc_section_display": true,
   "toc_window_display": false
  }
 },
 "nbformat": 4,
 "nbformat_minor": 4
}
